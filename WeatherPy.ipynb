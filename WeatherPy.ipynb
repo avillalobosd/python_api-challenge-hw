{
 "cells": [
  {
   "cell_type": "markdown",
   "metadata": {},
   "source": [
    "# WeatherPy\n",
    "----\n",
    "\n",
    "#### Note\n",
    "* Instructions have been included for each segment. You do not have to follow them exactly, but they are included to help you think through the steps."
   ]
  },
  {
   "cell_type": "code",
   "execution_count": 2,
   "metadata": {
    "scrolled": true
   },
   "outputs": [],
   "source": [
    "# Dependencies and Setup\n",
    "import matplotlib.pyplot as plt\n",
    "import pandas as pd\n",
    "import numpy as np\n",
    "import requests\n",
    "import time\n",
    "from scipy.stats import linregress\n",
    "\n",
    "# Import API key\n",
    "from api_keys import weather_api_key\n",
    "\n",
    "# Incorporated citipy to determine city based on latitude and longitude\n",
    "from citipy import citipy\n",
    "\n",
    "# Output File (CSV)\n",
    "output_data_file = \"output_data/cities.csv\"\n",
    "\n",
    "# Range of latitudes and longitudes\n",
    "lat_range = (-90, 90)\n",
    "lng_range = (-180, 180)"
   ]
  },
  {
   "cell_type": "markdown",
   "metadata": {},
   "source": [
    "## Generate Cities List"
   ]
  },
  {
   "cell_type": "code",
   "execution_count": 3,
   "metadata": {},
   "outputs": [
    {
     "data": {
      "text/plain": [
       "601"
      ]
     },
     "execution_count": 3,
     "metadata": {},
     "output_type": "execute_result"
    }
   ],
   "source": [
    "# List for holding lat_lngs and cities\n",
    "lat_lngs = []\n",
    "cities = []\n",
    "\n",
    "# Create a set of random lat and lng combinations\n",
    "lats = np.random.uniform(low=-90.000, high=90.000, size=1500)\n",
    "lngs = np.random.uniform(low=-180.000, high=180.000, size=1500)\n",
    "lat_lngs = zip(lats, lngs)\n",
    "\n",
    "# Identify nearest city for each lat, lng combination\n",
    "for lat_lng in lat_lngs:\n",
    "    city = citipy.nearest_city(lat_lng[0], lat_lng[1]).city_name\n",
    "    \n",
    "    # If the city is unique, then add it to a our cities list\n",
    "    if city not in cities:\n",
    "        cities.append(city)\n",
    "\n",
    "# Print the city count to confirm sufficient count\n",
    "len(cities)"
   ]
  },
  {
   "cell_type": "markdown",
   "metadata": {},
   "source": [
    "### Perform API Calls\n",
    "* Perform a weather check on each city using a series of successive API calls.\n",
    "* Include a print log of each city as it'sbeing processed (with the city number and city name).\n"
   ]
  },
  {
   "cell_type": "code",
   "execution_count": 4,
   "metadata": {},
   "outputs": [
    {
     "name": "stdout",
     "output_type": "stream",
     "text": [
      "Beginning Data Retrieval\n",
      "------------------------\n",
      "Processing Record 1 of 601 | calantas\n",
      "Processing Record 2 of 601 | dikson\n",
      "Processing Record 3 of 601 | verkhnedneprovskiy\n",
      "Processing Record 4 of 601 | nikolskoye\n",
      "Processing Record 5 of 601 | khatanga\n",
      "Processing Record 6 of 601 | nanortalik\n",
      "Processing Record 7 of 601 | mahanoro\n",
      "Processing Record 8 of 601 | youghal\n",
      "Processing Record 9 of 601 | port alfred\n",
      "Processing Record 10 of 601 | rikitea\n",
      "Processing Record 11 of 601 | barrow\n",
      "Processing Record 12 of 601 | punta arenas\n",
      "Processing Record 13 of 601 | alikalia\n",
      "Processing Record 14 of 601 | victoria\n",
      "Processing Record 15 of 601 | te anau\n",
      "Processing Record 16 of 601 | tahoua\n",
      "Processing Record 17 of 601 | mar del plata\n",
      "Processing Record 18 of 601 | avarua\n",
      "Processing Record 19 of 601 | baldeogarh\n",
      "Processing Record 20 of 601 | bambous virieux\n",
      "Processing Record 21 of 601 | nokaneng\n",
      "Processing Record 22 of 601 | cherskiy\n",
      "Processing Record 23 of 601 | mamallapuram\n",
      "Processing Record 24 of 601 | plettenberg bay\n",
      "Processing Record 25 of 601 | zhezkazgan\n",
      "Processing Record 26 of 601 | katsuura\n",
      "Processing Record 27 of 601 | mahenge\n",
      "Processing Record 28 of 601 | dahegam\n",
      "Processing Record 29 of 601 | mandalgovi\n",
      "SKIP NOT FOUND CITY | vaitupu\n",
      "Processing Record 31 of 601 | pangnirtung\n",
      "Processing Record 32 of 601 | hamilton\n",
      "Processing Record 33 of 601 | high level\n",
      "Processing Record 34 of 601 | byron bay\n",
      "Processing Record 35 of 601 | yaan\n",
      "Processing Record 36 of 601 | mataura\n",
      "Processing Record 37 of 601 | butaritari\n",
      "Processing Record 38 of 601 | aketi\n",
      "Processing Record 39 of 601 | champerico\n",
      "Processing Record 40 of 601 | kewanee\n",
      "Processing Record 41 of 601 | cape town\n",
      "SKIP NOT FOUND CITY | taolanaro\n",
      "Processing Record 43 of 601 | caravelas\n",
      "Processing Record 44 of 601 | ushuaia\n",
      "Processing Record 45 of 601 | saint-pierre\n",
      "Processing Record 46 of 601 | ponta do sol\n",
      "Processing Record 47 of 601 | hobart\n",
      "Processing Record 48 of 601 | kungurtug\n",
      "Processing Record 49 of 601 | bluff\n",
      "Processing Record 50 of 601 | atuona\n",
      "Processing Record 51 of 601 | castro\n",
      "Processing Record 52 of 601 | anahuac\n",
      "Processing Record 53 of 601 | bengkulu\n",
      "Processing Record 54 of 601 | georgetown\n",
      "Processing Record 55 of 601 | new norfolk\n",
      "Processing Record 56 of 601 | portland\n",
      "Processing Record 57 of 601 | tromso\n",
      "Processing Record 58 of 601 | chake chake\n",
      "Processing Record 59 of 601 | chuy\n",
      "Processing Record 60 of 601 | juneau\n",
      "Processing Record 61 of 601 | tasiilaq\n",
      "Processing Record 62 of 601 | thompson\n",
      "Processing Record 63 of 601 | santa marta\n",
      "Processing Record 64 of 601 | ahipara\n",
      "Processing Record 65 of 601 | vaini\n",
      "Processing Record 66 of 601 | chiquimula\n",
      "Processing Record 67 of 601 | havre-saint-pierre\n",
      "Processing Record 68 of 601 | changji\n",
      "Processing Record 69 of 601 | zhigansk\n",
      "Processing Record 70 of 601 | maceio\n",
      "Processing Record 71 of 601 | hasaki\n",
      "Processing Record 72 of 601 | saint-philippe\n",
      "Processing Record 73 of 601 | arraial do cabo\n",
      "Processing Record 74 of 601 | sinnamary\n",
      "Processing Record 75 of 601 | busselton\n",
      "Processing Record 76 of 601 | ilulissat\n",
      "Processing Record 77 of 601 | bredasdorp\n",
      "Processing Record 78 of 601 | buala\n",
      "Processing Record 79 of 601 | chernyshevskiy\n",
      "Processing Record 80 of 601 | hithadhoo\n",
      "Processing Record 81 of 601 | mangrol\n",
      "Processing Record 82 of 601 | amalapuram\n",
      "Processing Record 83 of 601 | santa isabel do rio negro\n",
      "Processing Record 84 of 601 | oistins\n",
      "Processing Record 85 of 601 | port elizabeth\n",
      "Processing Record 86 of 601 | nome\n",
      "Processing Record 87 of 601 | constitucion\n",
      "Processing Record 88 of 601 | tieli\n",
      "Processing Record 89 of 601 | raga\n",
      "Processing Record 90 of 601 | yazman\n",
      "Processing Record 91 of 601 | ambulu\n",
      "Processing Record 92 of 601 | east london\n",
      "Processing Record 93 of 601 | bardiyah\n",
      "Processing Record 94 of 601 | saint anthony\n",
      "Processing Record 95 of 601 | general pico\n",
      "Processing Record 96 of 601 | sabang\n",
      "Processing Record 97 of 601 | paraiso\n",
      "Processing Record 98 of 601 | isangel\n",
      "Processing Record 99 of 601 | avera\n",
      "Processing Record 100 of 601 | touros\n",
      "Processing Record 101 of 601 | tabuk\n",
      "Processing Record 102 of 601 | luorong\n",
      "Processing Record 103 of 601 | koumac\n",
      "Processing Record 104 of 601 | saint george\n",
      "Processing Record 105 of 601 | gold coast\n",
      "Processing Record 106 of 601 | klyavlino\n",
      "Processing Record 107 of 601 | albany\n",
      "Processing Record 108 of 601 | yulara\n",
      "Processing Record 109 of 601 | nadvoitsy\n",
      "SKIP NOT FOUND CITY | kuche\n",
      "Processing Record 111 of 601 | kingaroy\n",
      "Processing Record 112 of 601 | kapaa\n",
      "Processing Record 113 of 601 | bangassou\n",
      "Processing Record 114 of 601 | olavarria\n",
      "Processing Record 115 of 601 | yellowknife\n",
      "Processing Record 116 of 601 | praia da vitoria\n",
      "Processing Record 117 of 601 | tall kayf\n",
      "Processing Record 118 of 601 | ballarat\n",
      "Processing Record 119 of 601 | qaanaaq\n",
      "Processing Record 120 of 601 | tuktoyaktuk\n",
      "Processing Record 121 of 601 | rio gallegos\n",
      "SKIP NOT FOUND CITY | barentsburg\n",
      "Processing Record 123 of 601 | taltal\n",
      "Processing Record 124 of 601 | ushtobe\n",
      "SKIP NOT FOUND CITY | nguiu\n",
      "SKIP NOT FOUND CITY | taburi\n",
      "Processing Record 127 of 601 | hilo\n",
      "Processing Record 128 of 601 | diamantino\n",
      "SKIP NOT FOUND CITY | bossembele\n",
      "Processing Record 130 of 601 | luena\n",
      "Processing Record 131 of 601 | tungor\n",
      "SKIP NOT FOUND CITY | bargal\n",
      "Processing Record 133 of 601 | jamestown\n",
      "Processing Record 134 of 601 | pangai\n",
      "Processing Record 135 of 601 | gewane\n",
      "Processing Record 136 of 601 | bealanana\n",
      "Processing Record 137 of 601 | hermanus\n",
      "Processing Record 138 of 601 | esso\n",
      "Processing Record 139 of 601 | chapais\n",
      "Processing Record 140 of 601 | codrington\n",
      "Processing Record 141 of 601 | geraldton\n",
      "Processing Record 142 of 601 | longyearbyen\n",
      "Processing Record 143 of 601 | sitka\n",
      "Processing Record 144 of 601 | huarmey\n",
      "Processing Record 145 of 601 | pisco\n",
      "Processing Record 146 of 601 | grindavik\n",
      "Processing Record 147 of 601 | shieli\n",
      "Processing Record 148 of 601 | bethel\n",
      "SKIP NOT FOUND CITY | mys shmidta\n",
      "Processing Record 150 of 601 | dubuque\n",
      "Processing Record 151 of 601 | agde\n",
      "SKIP NOT FOUND CITY | illoqqortoormiut\n",
      "Processing Record 153 of 601 | jinchang\n",
      "Processing Record 154 of 601 | airai\n",
      "Processing Record 155 of 601 | waingapu\n",
      "Processing Record 156 of 601 | severnoye\n",
      "Processing Record 157 of 601 | namibe\n",
      "Processing Record 158 of 601 | erenhot\n",
      "Processing Record 159 of 601 | christchurch\n",
      "Processing Record 160 of 601 | aras\n",
      "Processing Record 161 of 601 | beringovskiy\n",
      "Processing Record 162 of 601 | burnie\n",
      "Processing Record 163 of 601 | maxixe\n",
      "Processing Record 164 of 601 | bereznyky\n",
      "Processing Record 165 of 601 | mizdah\n",
      "Processing Record 166 of 601 | bathsheba\n",
      "Processing Record 167 of 601 | tautira\n",
      "SKIP NOT FOUND CITY | belushya guba\n",
      "Processing Record 169 of 601 | montepuez\n",
      "Processing Record 170 of 601 | kodiak\n",
      "Processing Record 171 of 601 | kruisfontein\n",
      "Processing Record 172 of 601 | san patricio\n",
      "Processing Record 173 of 601 | iqaluit\n",
      "Processing Record 174 of 601 | soanierana ivongo\n",
      "Processing Record 175 of 601 | green river\n",
      "Processing Record 176 of 601 | aasiaat\n",
      "SKIP NOT FOUND CITY | attawapiskat\n",
      "Processing Record 178 of 601 | kamaishi\n",
      "Processing Record 179 of 601 | guerrero negro\n",
      "Processing Record 180 of 601 | cockburn town\n",
      "Processing Record 181 of 601 | alofi\n",
      "Processing Record 182 of 601 | matara\n",
      "Processing Record 183 of 601 | strezhevoy\n",
      "Processing Record 184 of 601 | pringsewu\n",
      "Processing Record 185 of 601 | denpasar\n",
      "Processing Record 186 of 601 | tiksi\n",
      "Processing Record 187 of 601 | carnarvon\n",
      "Processing Record 188 of 601 | san-pedro\n",
      "Processing Record 189 of 601 | bitkine\n",
      "Processing Record 190 of 601 | gamba\n",
      "Processing Record 191 of 601 | rio grande\n",
      "Processing Record 192 of 601 | harboore\n",
      "Processing Record 193 of 601 | pathein\n",
      "Processing Record 194 of 601 | arnold\n",
      "Processing Record 195 of 601 | dongsheng\n",
      "Processing Record 196 of 601 | shimoda\n",
      "Processing Record 197 of 601 | pevek\n",
      "Processing Record 198 of 601 | hokitika\n",
      "Processing Record 199 of 601 | qaqortoq\n",
      "Processing Record 200 of 601 | narsaq\n",
      "Processing Record 201 of 601 | chumikan\n",
      "Processing Record 202 of 601 | paamiut\n",
      "SKIP NOT FOUND CITY | utiroa\n",
      "Processing Record 204 of 601 | naze\n",
      "SKIP NOT FOUND CITY | grand river south east\n",
      "Processing Record 206 of 601 | ola\n",
      "Processing Record 207 of 601 | husavik\n",
      "Processing Record 208 of 601 | sechura\n"
     ]
    },
    {
     "name": "stdout",
     "output_type": "stream",
     "text": [
      "Processing Record 209 of 601 | cidreira\n",
      "Processing Record 210 of 601 | patos\n",
      "Processing Record 211 of 601 | hirara\n",
      "SKIP NOT FOUND CITY | naugarzan\n",
      "Processing Record 213 of 601 | kodinsk\n",
      "Processing Record 214 of 601 | wamba\n",
      "SKIP NOT FOUND CITY | karamea\n",
      "Processing Record 216 of 601 | esperance\n",
      "Processing Record 217 of 601 | souillac\n",
      "Processing Record 218 of 601 | teeli\n",
      "Processing Record 219 of 601 | tuatapere\n",
      "Processing Record 220 of 601 | tikrit\n",
      "Processing Record 221 of 601 | saint-georges\n",
      "Processing Record 222 of 601 | leningradskiy\n",
      "Processing Record 223 of 601 | padang\n",
      "Processing Record 224 of 601 | upernavik\n",
      "SKIP NOT FOUND CITY | tabiauea\n",
      "Processing Record 226 of 601 | kieta\n",
      "Processing Record 227 of 601 | tamandare\n",
      "Processing Record 228 of 601 | broken hill\n",
      "Processing Record 229 of 601 | lasa\n",
      "SKIP NOT FOUND CITY | stoyba\n",
      "SKIP NOT FOUND CITY | samusu\n",
      "Processing Record 232 of 601 | sarakhs\n",
      "Processing Record 233 of 601 | camocim\n",
      "Processing Record 234 of 601 | shahreza\n",
      "Processing Record 235 of 601 | hastings\n",
      "Processing Record 236 of 601 | saskylakh\n",
      "Processing Record 237 of 601 | ewa beach\n",
      "Processing Record 238 of 601 | kaseda\n",
      "Processing Record 239 of 601 | puerto ayora\n",
      "Processing Record 240 of 601 | laguna\n",
      "Processing Record 241 of 601 | xinyang\n",
      "Processing Record 242 of 601 | kavieng\n",
      "Processing Record 243 of 601 | vila velha\n",
      "SKIP NOT FOUND CITY | sentyabrskiy\n",
      "Processing Record 245 of 601 | luderitz\n",
      "SKIP NOT FOUND CITY | haibowan\n",
      "Processing Record 247 of 601 | henties bay\n",
      "Processing Record 248 of 601 | puquio\n",
      "Processing Record 249 of 601 | bucerias\n",
      "Processing Record 250 of 601 | sambava\n",
      "Processing Record 251 of 601 | harper\n",
      "Processing Record 252 of 601 | broome\n",
      "Processing Record 253 of 601 | caconda\n",
      "Processing Record 254 of 601 | ayan\n",
      "Processing Record 255 of 601 | manzhouli\n",
      "Processing Record 256 of 601 | lompoc\n",
      "Processing Record 257 of 601 | sao felix do xingu\n",
      "Processing Record 258 of 601 | vardo\n",
      "Processing Record 259 of 601 | berlevag\n",
      "Processing Record 260 of 601 | atar\n",
      "Processing Record 261 of 601 | boqueirao\n",
      "Processing Record 262 of 601 | troyes\n",
      "Processing Record 263 of 601 | santa cruz cabralia\n",
      "Processing Record 264 of 601 | aklavik\n",
      "Processing Record 265 of 601 | innisfail\n",
      "Processing Record 266 of 601 | cabo san lucas\n",
      "Processing Record 267 of 601 | labuhan\n",
      "Processing Record 268 of 601 | kumluca\n",
      "Processing Record 269 of 601 | asau\n",
      "Processing Record 270 of 601 | provideniya\n",
      "Processing Record 271 of 601 | ostrovnoy\n",
      "Processing Record 272 of 601 | foca\n",
      "Processing Record 273 of 601 | lusambo\n",
      "Processing Record 274 of 601 | la ronge\n",
      "Processing Record 275 of 601 | colima\n",
      "Processing Record 276 of 601 | marystown\n",
      "Processing Record 277 of 601 | troitsko-pechorsk\n",
      "Processing Record 278 of 601 | linz\n",
      "Processing Record 279 of 601 | bessemer\n",
      "Processing Record 280 of 601 | texistepeque\n",
      "Processing Record 281 of 601 | petropavlovsk-kamchatskiy\n",
      "Processing Record 282 of 601 | mount gambier\n",
      "Processing Record 283 of 601 | ovsyanka\n",
      "Processing Record 284 of 601 | harbour breton\n",
      "Processing Record 285 of 601 | padre bernardo\n",
      "SKIP NOT FOUND CITY | jabiru\n",
      "SKIP NOT FOUND CITY | rawannawi\n",
      "Processing Record 288 of 601 | mogocha\n",
      "Processing Record 289 of 601 | gazanjyk\n",
      "SKIP NOT FOUND CITY | koyilandi\n",
      "Processing Record 291 of 601 | hervey bay\n",
      "Processing Record 292 of 601 | jiuquan\n",
      "Processing Record 293 of 601 | parry sound\n",
      "Processing Record 294 of 601 | lichtenburg\n",
      "Processing Record 295 of 601 | chokurdakh\n",
      "Processing Record 296 of 601 | tecoanapa\n",
      "SKIP NOT FOUND CITY | palabuhanratu\n",
      "SKIP NOT FOUND CITY | saleaula\n",
      "Processing Record 299 of 601 | salalah\n",
      "Processing Record 300 of 601 | letlhakane\n",
      "Processing Record 301 of 601 | sao lourenco do sul\n",
      "SKIP NOT FOUND CITY | galiwinku\n",
      "Processing Record 303 of 601 | caninde\n",
      "Processing Record 304 of 601 | buraydah\n",
      "Processing Record 305 of 601 | veselynove\n",
      "Processing Record 306 of 601 | goderich\n",
      "Processing Record 307 of 601 | mondlo\n",
      "SKIP NOT FOUND CITY | marcona\n",
      "Processing Record 309 of 601 | ancud\n",
      "Processing Record 310 of 601 | saldanha\n",
      "Processing Record 311 of 601 | ca mau\n",
      "Processing Record 312 of 601 | pilar\n",
      "Processing Record 313 of 601 | borba\n",
      "Processing Record 314 of 601 | dalnerechensk\n",
      "SKIP NOT FOUND CITY | wa\n",
      "Processing Record 316 of 601 | smithers\n",
      "Processing Record 317 of 601 | sindor\n",
      "Processing Record 318 of 601 | kushima\n",
      "Processing Record 319 of 601 | srednekolymsk\n",
      "Processing Record 320 of 601 | valdivia\n",
      "Processing Record 321 of 601 | solnechnyy\n",
      "SKIP NOT FOUND CITY | amderma\n",
      "Processing Record 323 of 601 | araouane\n",
      "SKIP NOT FOUND CITY | abu jubayhah\n",
      "Processing Record 325 of 601 | stornoway\n",
      "Processing Record 326 of 601 | high prairie\n",
      "Processing Record 327 of 601 | seoul\n",
      "Processing Record 328 of 601 | calabozo\n",
      "Processing Record 329 of 601 | seminole\n",
      "Processing Record 330 of 601 | la palma\n",
      "Processing Record 331 of 601 | opuwo\n",
      "Processing Record 332 of 601 | limanowa\n",
      "Processing Record 333 of 601 | mountain home\n",
      "Processing Record 334 of 601 | margate\n",
      "SKIP NOT FOUND CITY | sorvag\n",
      "Processing Record 336 of 601 | los llanos de aridane\n",
      "Processing Record 337 of 601 | gachala\n",
      "Processing Record 338 of 601 | kalas\n",
      "Processing Record 339 of 601 | shivrajpur\n",
      "Processing Record 340 of 601 | nhulunbuy\n",
      "Processing Record 341 of 601 | ostersund\n",
      "Processing Record 342 of 601 | lubbock\n",
      "Processing Record 343 of 601 | mahebourg\n",
      "Processing Record 344 of 601 | sur\n",
      "Processing Record 345 of 601 | svobodnyy\n",
      "Processing Record 346 of 601 | ribeira grande\n",
      "Processing Record 347 of 601 | port blair\n",
      "Processing Record 348 of 601 | sambo creek\n",
      "Processing Record 349 of 601 | puerto palomas\n",
      "Processing Record 350 of 601 | bridlington\n",
      "Processing Record 351 of 601 | kannur\n",
      "Processing Record 352 of 601 | zhanaozen\n",
      "SKIP NOT FOUND CITY | barbar\n",
      "Processing Record 354 of 601 | nishihara\n",
      "Processing Record 355 of 601 | gushikawa\n",
      "Processing Record 356 of 601 | derby\n",
      "Processing Record 357 of 601 | kondinskoye\n",
      "Processing Record 358 of 601 | kaz\n",
      "Processing Record 359 of 601 | pagudpud\n",
      "Processing Record 360 of 601 | severo-kurilsk\n",
      "Processing Record 361 of 601 | magdalena\n",
      "Processing Record 362 of 601 | faanui\n",
      "Processing Record 363 of 601 | sindi\n",
      "Processing Record 364 of 601 | coihaique\n",
      "Processing Record 365 of 601 | road town\n",
      "Processing Record 366 of 601 | rozsypne\n",
      "Processing Record 367 of 601 | mareeba\n",
      "Processing Record 368 of 601 | le port\n",
      "Processing Record 369 of 601 | deputatskiy\n",
      "Processing Record 370 of 601 | norman wells\n",
      "Processing Record 371 of 601 | port angeles\n",
      "Processing Record 372 of 601 | kahului\n",
      "Processing Record 373 of 601 | bonaventure\n",
      "Processing Record 374 of 601 | antofagasta\n",
      "Processing Record 375 of 601 | lebu\n",
      "Processing Record 376 of 601 | cedar city\n",
      "Processing Record 377 of 601 | muros\n",
      "Processing Record 378 of 601 | arlit\n",
      "Processing Record 379 of 601 | iracoubo\n",
      "Processing Record 380 of 601 | pak phanang\n",
      "SKIP NOT FOUND CITY | kuhestan\n",
      "Processing Record 382 of 601 | teruel\n",
      "Processing Record 383 of 601 | binzhou\n",
      "Processing Record 384 of 601 | dehloran\n",
      "Processing Record 385 of 601 | kanniyakumari\n",
      "Processing Record 386 of 601 | sovetskaya\n",
      "Processing Record 387 of 601 | mitu\n",
      "Processing Record 388 of 601 | pyapon\n",
      "SKIP NOT FOUND CITY | sidi bu zayd\n",
      "Processing Record 390 of 601 | faya\n",
      "Processing Record 391 of 601 | ercis\n",
      "Processing Record 392 of 601 | puerto baquerizo moreno\n",
      "Processing Record 393 of 601 | altus\n",
      "Processing Record 394 of 601 | moyale\n",
      "Processing Record 395 of 601 | abbeville\n",
      "Processing Record 396 of 601 | lengshuitan\n",
      "Processing Record 397 of 601 | honningsvag\n",
      "Processing Record 398 of 601 | carutapera\n",
      "Processing Record 399 of 601 | tingloy\n",
      "SKIP NOT FOUND CITY | aflu\n",
      "Processing Record 401 of 601 | porto novo\n",
      "Processing Record 402 of 601 | hambantota\n",
      "Processing Record 403 of 601 | ternate\n",
      "Processing Record 404 of 601 | cantagallo\n",
      "Processing Record 405 of 601 | waitati\n",
      "Processing Record 406 of 601 | prince rupert\n",
      "Processing Record 407 of 601 | kalmunai\n",
      "Processing Record 408 of 601 | tadine\n",
      "Processing Record 409 of 601 | rio bravo\n",
      "Processing Record 410 of 601 | havre\n",
      "Processing Record 411 of 601 | bowen\n",
      "Processing Record 412 of 601 | itarema\n",
      "Processing Record 413 of 601 | sao joao da barra\n",
      "Processing Record 414 of 601 | vila franca do campo\n",
      "Processing Record 415 of 601 | ulaanbaatar\n"
     ]
    },
    {
     "name": "stdout",
     "output_type": "stream",
     "text": [
      "Processing Record 416 of 601 | itoman\n",
      "Processing Record 417 of 601 | vanavara\n",
      "Processing Record 418 of 601 | dhupgari\n",
      "Processing Record 419 of 601 | cabedelo\n",
      "Processing Record 420 of 601 | shu\n",
      "Processing Record 421 of 601 | nalut\n",
      "Processing Record 422 of 601 | jiaojiang\n",
      "Processing Record 423 of 601 | nyurba\n",
      "Processing Record 424 of 601 | kokopo\n",
      "Processing Record 425 of 601 | fria\n",
      "Processing Record 426 of 601 | viedma\n",
      "Processing Record 427 of 601 | skibbereen\n",
      "Processing Record 428 of 601 | marienburg\n",
      "Processing Record 429 of 601 | torbay\n",
      "SKIP NOT FOUND CITY | tsihombe\n",
      "Processing Record 431 of 601 | fort-shevchenko\n",
      "Processing Record 432 of 601 | semporna\n",
      "SKIP NOT FOUND CITY | mirina\n",
      "Processing Record 434 of 601 | otane\n",
      "Processing Record 435 of 601 | tilichiki\n",
      "Processing Record 436 of 601 | mackenzie\n",
      "Processing Record 437 of 601 | fairbanks\n",
      "Processing Record 438 of 601 | necochea\n",
      "Processing Record 439 of 601 | schmalkalden\n",
      "Processing Record 440 of 601 | pochinki\n",
      "Processing Record 441 of 601 | sao filipe\n",
      "Processing Record 442 of 601 | la asuncion\n",
      "Processing Record 443 of 601 | port lincoln\n",
      "Processing Record 444 of 601 | alice springs\n",
      "Processing Record 445 of 601 | impfondo\n",
      "SKIP NOT FOUND CITY | bengkalis\n",
      "Processing Record 447 of 601 | ribas do rio pardo\n",
      "Processing Record 448 of 601 | fort nelson\n",
      "Processing Record 449 of 601 | haines junction\n",
      "Processing Record 450 of 601 | marawi\n",
      "Processing Record 451 of 601 | loandjili\n",
      "Processing Record 452 of 601 | wukari\n",
      "Processing Record 453 of 601 | bontang\n",
      "Processing Record 454 of 601 | tawau\n",
      "Processing Record 455 of 601 | hobyo\n",
      "Processing Record 456 of 601 | pecos\n",
      "Processing Record 457 of 601 | pacific grove\n",
      "Processing Record 458 of 601 | zemio\n",
      "Processing Record 459 of 601 | ust-nera\n",
      "Processing Record 460 of 601 | king city\n",
      "Processing Record 461 of 601 | dalbandin\n",
      "Processing Record 462 of 601 | mirante do paranapanema\n",
      "Processing Record 463 of 601 | beatrice\n",
      "Processing Record 464 of 601 | craig\n",
      "Processing Record 465 of 601 | port macquarie\n",
      "Processing Record 466 of 601 | colares\n",
      "Processing Record 467 of 601 | half moon bay\n",
      "Processing Record 468 of 601 | nykoping\n",
      "Processing Record 469 of 601 | rocha\n",
      "Processing Record 470 of 601 | acajutla\n",
      "Processing Record 471 of 601 | cairns\n",
      "Processing Record 472 of 601 | ous\n",
      "Processing Record 473 of 601 | brae\n",
      "Processing Record 474 of 601 | rawson\n",
      "Processing Record 475 of 601 | gavrilov posad\n",
      "Processing Record 476 of 601 | monrovia\n",
      "SKIP NOT FOUND CITY | kamenskoye\n",
      "Processing Record 478 of 601 | coquimbo\n",
      "Processing Record 479 of 601 | jalu\n",
      "Processing Record 480 of 601 | bonavista\n",
      "Processing Record 481 of 601 | shingu\n",
      "Processing Record 482 of 601 | ust-omchug\n",
      "Processing Record 483 of 601 | dayong\n",
      "Processing Record 484 of 601 | banyo\n",
      "Processing Record 485 of 601 | suntar\n",
      "Processing Record 486 of 601 | galveston\n",
      "Processing Record 487 of 601 | whithorn\n",
      "Processing Record 488 of 601 | poum\n",
      "Processing Record 489 of 601 | bubaque\n",
      "Processing Record 490 of 601 | lakes entrance\n",
      "Processing Record 491 of 601 | iberia\n",
      "Processing Record 492 of 601 | sharjah\n",
      "Processing Record 493 of 601 | arman\n",
      "Processing Record 494 of 601 | kasongo-lunda\n",
      "Processing Record 495 of 601 | clyde river\n",
      "Processing Record 496 of 601 | kawalu\n",
      "SKIP NOT FOUND CITY | guajara-mirim\n",
      "Processing Record 498 of 601 | vamvakou\n",
      "Processing Record 499 of 601 | denizli\n",
      "Processing Record 500 of 601 | zalesovo\n",
      "Processing Record 501 of 601 | paulo ramos\n",
      "SKIP NOT FOUND CITY | meilu\n",
      "SKIP NOT FOUND CITY | ust-kamchatsk\n",
      "Processing Record 504 of 601 | maragogi\n",
      "Processing Record 505 of 601 | albion\n",
      "Processing Record 506 of 601 | sergeyevka\n",
      "Processing Record 507 of 601 | moose factory\n",
      "Processing Record 508 of 601 | richards bay\n",
      "Processing Record 509 of 601 | takoradi\n",
      "Processing Record 510 of 601 | boffa\n",
      "Processing Record 511 of 601 | gizo\n",
      "Processing Record 512 of 601 | luganville\n",
      "Processing Record 513 of 601 | ceres\n",
      "Processing Record 514 of 601 | puerto quijarro\n",
      "Processing Record 515 of 601 | kavaratti\n",
      "Processing Record 516 of 601 | watsa\n",
      "Processing Record 517 of 601 | panagar\n",
      "Processing Record 518 of 601 | tambura\n",
      "Processing Record 519 of 601 | kaduna\n",
      "Processing Record 520 of 601 | gabu\n",
      "Processing Record 521 of 601 | sangar\n",
      "Processing Record 522 of 601 | vilyuysk\n",
      "Processing Record 523 of 601 | sinop\n",
      "Processing Record 524 of 601 | annau\n",
      "Processing Record 525 of 601 | talnakh\n",
      "Processing Record 526 of 601 | praia\n",
      "Processing Record 527 of 601 | vestmannaeyjar\n",
      "Processing Record 528 of 601 | birjand\n",
      "Processing Record 529 of 601 | buchanan\n",
      "Processing Record 530 of 601 | kem\n",
      "Processing Record 531 of 601 | svetlyy\n",
      "Processing Record 532 of 601 | miles city\n",
      "Processing Record 533 of 601 | hoquiam\n",
      "Processing Record 534 of 601 | biabou\n",
      "SKIP NOT FOUND CITY | skalistyy\n",
      "Processing Record 536 of 601 | varkaus\n",
      "Processing Record 537 of 601 | palasa\n",
      "Processing Record 538 of 601 | belmonte\n",
      "Processing Record 539 of 601 | valle de allende\n",
      "Processing Record 540 of 601 | liwale\n",
      "Processing Record 541 of 601 | nantucket\n",
      "Processing Record 542 of 601 | fengzhen\n",
      "Processing Record 543 of 601 | kudahuvadhoo\n",
      "Processing Record 544 of 601 | kokoda\n",
      "Processing Record 545 of 601 | sibolga\n",
      "Processing Record 546 of 601 | mawana\n",
      "Processing Record 547 of 601 | adrar\n",
      "Processing Record 548 of 601 | kargasok\n",
      "Processing Record 549 of 601 | komsomolskiy\n",
      "Processing Record 550 of 601 | bambanglipuro\n",
      "Processing Record 551 of 601 | teya\n",
      "Processing Record 552 of 601 | lavrentiya\n",
      "Processing Record 553 of 601 | aden\n",
      "Processing Record 554 of 601 | gorontalo\n",
      "Processing Record 555 of 601 | jalpan\n",
      "Processing Record 556 of 601 | sale\n",
      "Processing Record 557 of 601 | iranshahr\n",
      "Processing Record 558 of 601 | mutoko\n",
      "Processing Record 559 of 601 | ozernovskiy\n",
      "Processing Record 560 of 601 | kloulklubed\n",
      "Processing Record 561 of 601 | ulladulla\n",
      "Processing Record 562 of 601 | sao jose da coroa grande\n",
      "Processing Record 563 of 601 | port hawkesbury\n",
      "Processing Record 564 of 601 | ierissos\n",
      "Processing Record 565 of 601 | fallon\n",
      "Processing Record 566 of 601 | jumla\n",
      "Processing Record 567 of 601 | telimele\n",
      "Processing Record 568 of 601 | rennes\n",
      "Processing Record 569 of 601 | dombasle-sur-meurthe\n",
      "Processing Record 570 of 601 | phan thiet\n",
      "Processing Record 571 of 601 | saint-honore\n",
      "Processing Record 572 of 601 | songkhla\n",
      "Processing Record 573 of 601 | okhotsk\n",
      "Processing Record 574 of 601 | belaya gora\n",
      "Processing Record 575 of 601 | comodoro rivadavia\n",
      "Processing Record 576 of 601 | merke\n",
      "Processing Record 577 of 601 | tripoli\n",
      "Processing Record 578 of 601 | puerto escondido\n",
      "Processing Record 579 of 601 | birin\n",
      "Processing Record 580 of 601 | alugan\n",
      "Processing Record 581 of 601 | sabinopolis\n",
      "Processing Record 582 of 601 | dingle\n",
      "Processing Record 583 of 601 | khandyga\n",
      "Processing Record 584 of 601 | ardee\n",
      "Processing Record 585 of 601 | gravdal\n",
      "Processing Record 586 of 601 | paripiranga\n",
      "Processing Record 587 of 601 | yamada\n",
      "Processing Record 588 of 601 | vanimo\n",
      "Processing Record 589 of 601 | kamenka\n",
      "Processing Record 590 of 601 | dharchula\n",
      "Processing Record 591 of 601 | jerome\n",
      "SKIP NOT FOUND CITY | saryshagan\n",
      "SKIP NOT FOUND CITY | tasbuget\n",
      "Processing Record 594 of 601 | san quintin\n",
      "Processing Record 595 of 601 | san joaquin\n",
      "SKIP NOT FOUND CITY | sataua\n",
      "Processing Record 597 of 601 | izalco\n",
      "Processing Record 598 of 601 | yeppoon\n",
      "Processing Record 599 of 601 | jieshi\n",
      "Processing Record 600 of 601 | balsas\n",
      "Processing Record 601 of 601 | murmashi\n"
     ]
    }
   ],
   "source": [
    "mock=[\"monterrey\",\"saltillo\"]\n",
    "arrayCit = []\n",
    "count=1\n",
    "print(\"Beginning Data Retrieval\")\n",
    "print(\"------------------------\")\n",
    "for city in cities:\n",
    "    response=requests.get(f\"http://api.openweathermap.org/data/2.5/weather?q={city}&appid={weather_api_key}\")\n",
    "    data=response.json()\n",
    "    if(data[\"cod\"]==200):\n",
    "        celcisus_temp = data[\"main\"][\"temp_max\"] - 273.15\n",
    "        fahrenheit_temp = celcisus_temp * ( 9 / 5 ) + 32\n",
    "        print(f\"Processing Record {count} of {len(cities)} | {city}\")\n",
    "        #dataF={\"City\":city ,\"Cloudiness\": data[\"clouds\"][\"all\"] , \"Country\":data[\"sys\"][\"country\"] , \"Date\":data[\"dt\"] , \"Humidity\":data[\"main\"][\"humidity\"] , \"Lat\":data[\"coord\"][\"lat\"] , \"Lng\":data[\"coord\"][\"lon\"] , \"MaxTemp\":data[\"main\"][\"temp_max\"] , \"WindSpeed\":data[\"wind\"][\"speed\"]}\n",
    "        dataV=(city,data[\"clouds\"][\"all\"],data[\"sys\"][\"country\"],data[\"dt\"],data[\"main\"][\"humidity\"] ,data[\"coord\"][\"lat\"],data[\"coord\"][\"lon\"],fahrenheit_temp,data[\"wind\"][\"speed\"])\n",
    "        arrayCit.append(dataV)\n",
    "        count=count+1\n",
    "    else:\n",
    "        print(f\"SKIP NOT FOUND CITY | {city}\")\n",
    "        count=count+1"
   ]
  },
  {
   "cell_type": "markdown",
   "metadata": {},
   "source": [
    "### Convert Raw Data to DataFrame\n",
    "* Export the city data into a .csv.\n",
    "* Display the DataFrame"
   ]
  },
  {
   "cell_type": "code",
   "execution_count": 5,
   "metadata": {},
   "outputs": [
    {
     "data": {
      "text/html": [
       "<div>\n",
       "<style scoped>\n",
       "    .dataframe tbody tr th:only-of-type {\n",
       "        vertical-align: middle;\n",
       "    }\n",
       "\n",
       "    .dataframe tbody tr th {\n",
       "        vertical-align: top;\n",
       "    }\n",
       "\n",
       "    .dataframe thead th {\n",
       "        text-align: right;\n",
       "    }\n",
       "</style>\n",
       "<table border=\"1\" class=\"dataframe\">\n",
       "  <thead>\n",
       "    <tr style=\"text-align: right;\">\n",
       "      <th></th>\n",
       "      <th>City</th>\n",
       "      <th>Cloudiness</th>\n",
       "      <th>Country</th>\n",
       "      <th>Date</th>\n",
       "      <th>Humidity</th>\n",
       "      <th>Lat</th>\n",
       "      <th>Lng</th>\n",
       "      <th>Max Temp</th>\n",
       "      <th>WindSpeed</th>\n",
       "    </tr>\n",
       "  </thead>\n",
       "  <tbody>\n",
       "    <tr>\n",
       "      <td>0</td>\n",
       "      <td>calantas</td>\n",
       "      <td>75</td>\n",
       "      <td>PH</td>\n",
       "      <td>1583038209</td>\n",
       "      <td>52</td>\n",
       "      <td>15.02</td>\n",
       "      <td>120.52</td>\n",
       "      <td>89.600</td>\n",
       "      <td>2.10</td>\n",
       "    </tr>\n",
       "    <tr>\n",
       "      <td>1</td>\n",
       "      <td>dikson</td>\n",
       "      <td>100</td>\n",
       "      <td>RU</td>\n",
       "      <td>1583038209</td>\n",
       "      <td>78</td>\n",
       "      <td>73.51</td>\n",
       "      <td>80.55</td>\n",
       "      <td>12.434</td>\n",
       "      <td>13.08</td>\n",
       "    </tr>\n",
       "    <tr>\n",
       "      <td>2</td>\n",
       "      <td>verkhnedneprovskiy</td>\n",
       "      <td>97</td>\n",
       "      <td>RU</td>\n",
       "      <td>1583038210</td>\n",
       "      <td>74</td>\n",
       "      <td>54.98</td>\n",
       "      <td>33.35</td>\n",
       "      <td>32.072</td>\n",
       "      <td>6.92</td>\n",
       "    </tr>\n",
       "    <tr>\n",
       "      <td>3</td>\n",
       "      <td>nikolskoye</td>\n",
       "      <td>100</td>\n",
       "      <td>RU</td>\n",
       "      <td>1583038210</td>\n",
       "      <td>92</td>\n",
       "      <td>59.70</td>\n",
       "      <td>30.79</td>\n",
       "      <td>28.994</td>\n",
       "      <td>3.00</td>\n",
       "    </tr>\n",
       "    <tr>\n",
       "      <td>4</td>\n",
       "      <td>khatanga</td>\n",
       "      <td>89</td>\n",
       "      <td>RU</td>\n",
       "      <td>1583038055</td>\n",
       "      <td>93</td>\n",
       "      <td>71.97</td>\n",
       "      <td>102.50</td>\n",
       "      <td>2.282</td>\n",
       "      <td>5.54</td>\n",
       "    </tr>\n",
       "    <tr>\n",
       "      <td>...</td>\n",
       "      <td>...</td>\n",
       "      <td>...</td>\n",
       "      <td>...</td>\n",
       "      <td>...</td>\n",
       "      <td>...</td>\n",
       "      <td>...</td>\n",
       "      <td>...</td>\n",
       "      <td>...</td>\n",
       "      <td>...</td>\n",
       "    </tr>\n",
       "    <tr>\n",
       "      <td>549</td>\n",
       "      <td>izalco</td>\n",
       "      <td>17</td>\n",
       "      <td>SV</td>\n",
       "      <td>1583038328</td>\n",
       "      <td>68</td>\n",
       "      <td>13.74</td>\n",
       "      <td>-89.67</td>\n",
       "      <td>68.000</td>\n",
       "      <td>4.60</td>\n",
       "    </tr>\n",
       "    <tr>\n",
       "      <td>550</td>\n",
       "      <td>yeppoon</td>\n",
       "      <td>40</td>\n",
       "      <td>AU</td>\n",
       "      <td>1583038328</td>\n",
       "      <td>48</td>\n",
       "      <td>-23.13</td>\n",
       "      <td>150.73</td>\n",
       "      <td>87.800</td>\n",
       "      <td>2.60</td>\n",
       "    </tr>\n",
       "    <tr>\n",
       "      <td>551</td>\n",
       "      <td>jieshi</td>\n",
       "      <td>4</td>\n",
       "      <td>CN</td>\n",
       "      <td>1583038328</td>\n",
       "      <td>64</td>\n",
       "      <td>22.81</td>\n",
       "      <td>115.83</td>\n",
       "      <td>80.996</td>\n",
       "      <td>1.39</td>\n",
       "    </tr>\n",
       "    <tr>\n",
       "      <td>552</td>\n",
       "      <td>balsas</td>\n",
       "      <td>94</td>\n",
       "      <td>BR</td>\n",
       "      <td>1583038049</td>\n",
       "      <td>94</td>\n",
       "      <td>-7.53</td>\n",
       "      <td>-46.04</td>\n",
       "      <td>73.184</td>\n",
       "      <td>0.74</td>\n",
       "    </tr>\n",
       "    <tr>\n",
       "      <td>553</td>\n",
       "      <td>murmashi</td>\n",
       "      <td>20</td>\n",
       "      <td>RU</td>\n",
       "      <td>1583038328</td>\n",
       "      <td>74</td>\n",
       "      <td>68.82</td>\n",
       "      <td>32.81</td>\n",
       "      <td>-22.000</td>\n",
       "      <td>1.00</td>\n",
       "    </tr>\n",
       "  </tbody>\n",
       "</table>\n",
       "<p>554 rows × 9 columns</p>\n",
       "</div>"
      ],
      "text/plain": [
       "                   City  Cloudiness Country        Date  Humidity    Lat  \\\n",
       "0              calantas          75      PH  1583038209        52  15.02   \n",
       "1                dikson         100      RU  1583038209        78  73.51   \n",
       "2    verkhnedneprovskiy          97      RU  1583038210        74  54.98   \n",
       "3            nikolskoye         100      RU  1583038210        92  59.70   \n",
       "4              khatanga          89      RU  1583038055        93  71.97   \n",
       "..                  ...         ...     ...         ...       ...    ...   \n",
       "549              izalco          17      SV  1583038328        68  13.74   \n",
       "550             yeppoon          40      AU  1583038328        48 -23.13   \n",
       "551              jieshi           4      CN  1583038328        64  22.81   \n",
       "552              balsas          94      BR  1583038049        94  -7.53   \n",
       "553            murmashi          20      RU  1583038328        74  68.82   \n",
       "\n",
       "        Lng  Max Temp  WindSpeed  \n",
       "0    120.52    89.600       2.10  \n",
       "1     80.55    12.434      13.08  \n",
       "2     33.35    32.072       6.92  \n",
       "3     30.79    28.994       3.00  \n",
       "4    102.50     2.282       5.54  \n",
       "..      ...       ...        ...  \n",
       "549  -89.67    68.000       4.60  \n",
       "550  150.73    87.800       2.60  \n",
       "551  115.83    80.996       1.39  \n",
       "552  -46.04    73.184       0.74  \n",
       "553   32.81   -22.000       1.00  \n",
       "\n",
       "[554 rows x 9 columns]"
      ]
     },
     "execution_count": 5,
     "metadata": {},
     "output_type": "execute_result"
    }
   ],
   "source": [
    "dfCities = pd.DataFrame(arrayCit, columns = [\"City\",\"Cloudiness\",\"Country\",\"Date\",\"Humidity\",\"Lat\",\"Lng\",\"Max Temp\",\"WindSpeed\"])\n",
    "dfCities"
   ]
  },
  {
   "cell_type": "markdown",
   "metadata": {},
   "source": [
    "### Plotting the Data\n",
    "* Use proper labeling of the plots using plot titles (including date of analysis) and axes labels.\n",
    "* Save the plotted figures as .pngs."
   ]
  },
  {
   "cell_type": "markdown",
   "metadata": {},
   "source": [
    "#### Latitude vs. Temperature Plot"
   ]
  },
  {
   "cell_type": "code",
   "execution_count": 14,
   "metadata": {
    "scrolled": true
   },
   "outputs": [
    {
     "data": {
      "text/plain": [
       "Text(0, 0.5, 'Max Temperature')"
      ]
     },
     "execution_count": 14,
     "metadata": {},
     "output_type": "execute_result"
    },
    {
     "data": {
      "image/png": "[encoded data removed]",
      "text/plain": [
       "<Figure size 432x288 with 1 Axes>"
      ]
     },
     "metadata": {
      "needs_background": "light"
     },
     "output_type": "display_data"
    }
   ],
   "source": [
    "#plt.scatter(dfCities[\"Lat\"], dfCities[\"Max Temp\"])\n",
    "x=dfCities[\"Lat\"]\n",
    "y=dfCities[\"Max Temp\"]\n",
    "(slope, intercept, rvalue, pvalue, stderr) = linregress(x, y)\n",
    "regress_values = x * slope + intercept\n",
    "line_eq = \"y = \" + str(round(slope,2)) + \"x + \" + str(round(intercept,2))\n",
    "plt.scatter(x,y)\n",
    "plt.plot(x,regress_values,\"r-\")\n",
    "plt.title(\"City Latitude vs. Max Temperature\")\n",
    "plt.xlabel(\"Latitude\")\n",
    "plt.ylabel(\"Max Temperature\")\n"
   ]
  },
  {
   "cell_type": "markdown",
   "metadata": {},
   "source": [
    "#### Latitude vs. Humidity Plot"
   ]
  },
  {
   "cell_type": "code",
   "execution_count": 15,
   "metadata": {},
   "outputs": [
    {
     "data": {
      "text/plain": [
       "Text(0, 0.5, 'Huidity')"
      ]
     },
     "execution_count": 15,
     "metadata": {},
     "output_type": "execute_result"
    },
    {
     "data": {
      "image/png": "[encoded data removed]",
      "text/plain": [
       "<Figure size 432x288 with 1 Axes>"
      ]
     },
     "metadata": {
      "needs_background": "light"
     },
     "output_type": "display_data"
    }
   ],
   "source": [
    "#plt.scatter(dfCities[\"Lat\"], dfCities[\"Humidity\"])\n",
    "x=dfCities[\"Lat\"]\n",
    "y=dfCities[\"Humidity\"]\n",
    "(slope, intercept, rvalue, pvalue, stderr) = linregress(x, y)\n",
    "regress_values = x * slope + intercept\n",
    "line_eq = \"y = \" + str(round(slope,2)) + \"x + \" + str(round(intercept,2))\n",
    "plt.scatter(x,y)\n",
    "plt.plot(x,regress_values,\"r-\")\n",
    "plt.title(\"City Latitude vs. Humidity\")\n",
    "plt.xlabel(\"Latitude\")\n",
    "plt.ylabel(\"Huidity\")"
   ]
  },
  {
   "cell_type": "markdown",
   "metadata": {},
   "source": [
    "#### Latitude vs. Cloudiness Plot"
   ]
  },
  {
   "cell_type": "code",
   "execution_count": 16,
   "metadata": {},
   "outputs": [
    {
     "data": {
      "text/plain": [
       "Text(0, 0.5, 'Cloudiness')"
      ]
     },
     "execution_count": 16,
     "metadata": {},
     "output_type": "execute_result"
    },
    {
     "data": {
      "image/png": "[encoded data removed]",
      "text/plain": [
       "<Figure size 432x288 with 1 Axes>"
      ]
     },
     "metadata": {
      "needs_background": "light"
     },
     "output_type": "display_data"
    }
   ],
   "source": [
    "#plt.scatter(dfCities[\"Lat\"], dfCities[\"Cloudiness\"])\n",
    "x=dfCities[\"Lat\"]\n",
    "y=dfCities[\"Cloudiness\"]\n",
    "(slope, intercept, rvalue, pvalue, stderr) = linregress(x, y)\n",
    "regress_values = x * slope + intercept\n",
    "line_eq = \"y = \" + str(round(slope,2)) + \"x + \" + str(round(intercept,2))\n",
    "plt.scatter(x,y)\n",
    "plt.plot(x,regress_values,\"r-\")\n",
    "plt.title(\"City Latitude vs. Cloudiness\")\n",
    "plt.xlabel(\"Latitude\")\n",
    "plt.ylabel(\"Cloudiness\")"
   ]
  },
  {
   "cell_type": "markdown",
   "metadata": {},
   "source": [
    "#### Latitude vs. Wind Speed Plot"
   ]
  },
  {
   "cell_type": "code",
   "execution_count": 18,
   "metadata": {},
   "outputs": [
    {
     "data": {
      "text/plain": [
       "Text(0, 0.5, 'Wind Speed')"
      ]
     },
     "execution_count": 18,
     "metadata": {},
     "output_type": "execute_result"
    },
    {
     "data": {
      "image/png": "[encoded data removed]",
      "text/plain": [
       "<Figure size 432x288 with 1 Axes>"
      ]
     },
     "metadata": {
      "needs_background": "light"
     },
     "output_type": "display_data"
    }
   ],
   "source": [
    "#plt.scatter(dfCities[\"Lat\"], dfCities[\"WindSpeed\"])\n",
    "x=dfCities[\"Lat\"]\n",
    "y=dfCities[\"WindSpeed\"]\n",
    "(slope, intercept, rvalue, pvalue, stderr) = linregress(x, y)\n",
    "regress_values = x * slope + intercept\n",
    "line_eq = \"y = \" + str(round(slope,2)) + \"x + \" + str(round(intercept,2))\n",
    "plt.scatter(x,y)\n",
    "plt.plot(x,regress_values,\"r-\")\n",
    "plt.title(\"City Latitude vs. Wind Speed\")\n",
    "plt.xlabel(\"Latitude\")\n",
    "plt.ylabel(\"Wind Speed\")"
   ]
  },
  {
   "cell_type": "markdown",
   "metadata": {},
   "source": [
    "## Linear Regression"
   ]
  },
  {
   "cell_type": "code",
   "execution_count": 19,
   "metadata": {},
   "outputs": [],
   "source": [
    "# OPTIONAL: Create a function to create Linear Regression plots\n"
   ]
  },
  {
   "cell_type": "code",
   "execution_count": 20,
   "metadata": {},
   "outputs": [],
   "source": [
    "# Create Northern and Southern Hemisphere DataFrames\n",
    "Southern=dfCities[dfCities[\"Lat\"]<0]\n",
    "Northern=dfCities[dfCities[\"Lat\"]>=0]"
   ]
  },
  {
   "cell_type": "markdown",
   "metadata": {},
   "source": [
    "####  Northern Hemisphere - Max Temp vs. Latitude Linear Regression"
   ]
  },
  {
   "cell_type": "code",
   "execution_count": 22,
   "metadata": {},
   "outputs": [
    {
     "name": "stdout",
     "output_type": "stream",
     "text": [
      "The r-squared is: -1.29\n"
     ]
    },
    {
     "data": {
      "text/plain": [
       "Text(0, 0.5, 'Max Temp')"
      ]
     },
     "execution_count": 22,
     "metadata": {},
     "output_type": "execute_result"
    },
    {
     "data": {
      "image/png": "[encoded data removed]",
      "text/plain": [
       "<Figure size 432x288 with 1 Axes>"
      ]
     },
     "metadata": {
      "needs_background": "light"
     },
     "output_type": "display_data"
    }
   ],
   "source": [
    "x=Northern[\"Lat\"]\n",
    "y=Northern[\"Max Temp\"]\n",
    "(slope, intercept, rvalue, pvalue, stderr) = linregress(x, y)\n",
    "regress_values = x * slope + intercept\n",
    "line_eq = \"y = \" + str(round(slope,2)) + \"x + \" + str(round(intercept,2))\n",
    "print(f\"The r-squared is: {str(round(slope,2))}\")\n",
    "plt.scatter(x,y)\n",
    "plt.plot(x,regress_values,\"r-\")\n",
    "\n",
    "plt.xlabel(\"Latitude\")\n",
    "plt.ylabel(\"Max Temp\")"
   ]
  },
  {
   "cell_type": "markdown",
   "metadata": {},
   "source": [
    "####  Southern Hemisphere - Max Temp vs. Latitude Linear Regression"
   ]
  },
  {
   "cell_type": "code",
   "execution_count": 23,
   "metadata": {},
   "outputs": [
    {
     "name": "stdout",
     "output_type": "stream",
     "text": [
      "The r-squared is: 0.35\n"
     ]
    },
    {
     "data": {
      "text/plain": [
       "Text(0, 0.5, 'Max Temp')"
      ]
     },
     "execution_count": 23,
     "metadata": {},
     "output_type": "execute_result"
    },
    {
     "data": {
      "image/png": "[encoded data removed]",
      "text/plain": [
       "<Figure size 432x288 with 1 Axes>"
      ]
     },
     "metadata": {
      "needs_background": "light"
     },
     "output_type": "display_data"
    }
   ],
   "source": [
    "x=Southern[\"Lat\"]\n",
    "y=Southern[\"Max Temp\"]\n",
    "(slope, intercept, rvalue, pvalue, stderr) = linregress(x, y)\n",
    "regress_values = x * slope + intercept\n",
    "line_eq = \"y = \" + str(round(slope,2)) + \"x + \" + str(round(intercept,2))\n",
    "print(f\"The r-squared is: {str(round(slope,2))}\")\n",
    "plt.scatter(x,y)\n",
    "plt.plot(x,regress_values,\"r-\")\n",
    "\n",
    "plt.xlabel(\"Latitude\")\n",
    "plt.ylabel(\"Max Temp\")"
   ]
  },
  {
   "cell_type": "markdown",
   "metadata": {},
   "source": [
    "####  Northern Hemisphere - Humidity (%) vs. Latitude Linear Regression"
   ]
  },
  {
   "cell_type": "code",
   "execution_count": 24,
   "metadata": {},
   "outputs": [
    {
     "name": "stdout",
     "output_type": "stream",
     "text": [
      "The r-squared is: 0.35\n"
     ]
    },
    {
     "data": {
      "text/plain": [
       "Text(0, 0.5, 'Humidity')"
      ]
     },
     "execution_count": 24,
     "metadata": {},
     "output_type": "execute_result"
    },
    {
     "data": {
      "image/png": "[encoded data removed]",
      "text/plain": [
       "<Figure size 432x288 with 1 Axes>"
      ]
     },
     "metadata": {
      "needs_background": "light"
     },
     "output_type": "display_data"
    }
   ],
   "source": [
    "x=Northern[\"Lat\"]\n",
    "y=Northern[\"Humidity\"]\n",
    "(slope, intercept, rvalue, pvalue, stderr) = linregress(x, y)\n",
    "regress_values = x * slope + intercept\n",
    "line_eq = \"y = \" + str(round(slope,2)) + \"x + \" + str(round(intercept,2))\n",
    "print(f\"The r-squared is: {str(round(slope,2))}\")\n",
    "plt.scatter(x,y)\n",
    "plt.plot(x,regress_values,\"r-\")\n",
    "\n",
    "plt.xlabel(\"Latitude\")\n",
    "plt.ylabel(\"Humidity\")"
   ]
  },
  {
   "cell_type": "markdown",
   "metadata": {},
   "source": [
    "####  Southern Hemisphere - Humidity (%) vs. Latitude Linear Regression"
   ]
  },
  {
   "cell_type": "code",
   "execution_count": 25,
   "metadata": {},
   "outputs": [
    {
     "name": "stdout",
     "output_type": "stream",
     "text": [
      "The r-squared is: 0.41\n"
     ]
    },
    {
     "data": {
      "text/plain": [
       "Text(0, 0.5, 'Humidity')"
      ]
     },
     "execution_count": 25,
     "metadata": {},
     "output_type": "execute_result"
    },
    {
     "data": {
      "image/png": "[encoded data removed]",
      "text/plain": [
       "<Figure size 432x288 with 1 Axes>"
      ]
     },
     "metadata": {
      "needs_background": "light"
     },
     "output_type": "display_data"
    }
   ],
   "source": [
    "x=Southern[\"Lat\"]\n",
    "y=Southern[\"Humidity\"]\n",
    "(slope, intercept, rvalue, pvalue, stderr) = linregress(x, y)\n",
    "regress_values = x * slope + intercept\n",
    "line_eq = \"y = \" + str(round(slope,2)) + \"x + \" + str(round(intercept,2))\n",
    "print(f\"The r-squared is: {str(round(slope,2))}\")\n",
    "plt.scatter(x,y)\n",
    "plt.plot(x,regress_values,\"r-\")\n",
    "plt.xlabel(\"Latitude\")\n",
    "plt.ylabel(\"Humidity\")"
   ]
  },
  {
   "cell_type": "markdown",
   "metadata": {},
   "source": [
    "####  Northern Hemisphere - Cloudiness (%) vs. Latitude Linear Regression"
   ]
  },
  {
   "cell_type": "code",
   "execution_count": 26,
   "metadata": {},
   "outputs": [
    {
     "name": "stdout",
     "output_type": "stream",
     "text": [
      "The r-squared is: 0.41\n"
     ]
    },
    {
     "data": {
      "text/plain": [
       "Text(0, 0.5, 'Cloudiness')"
      ]
     },
     "execution_count": 26,
     "metadata": {},
     "output_type": "execute_result"
    },
    {
     "data": {
      "image/png": "[encoded data removed]",
      "text/plain": [
       "<Figure size 432x288 with 1 Axes>"
      ]
     },
     "metadata": {
      "needs_background": "light"
     },
     "output_type": "display_data"
    }
   ],
   "source": [
    "x=Northern[\"Lat\"]\n",
    "y=Northern[\"Cloudiness\"]\n",
    "(slope, intercept, rvalue, pvalue, stderr) = linregress(x, y)\n",
    "regress_values = x * slope + intercept\n",
    "line_eq = \"y = \" + str(round(slope,2)) + \"x + \" + str(round(intercept,2))\n",
    "print(f\"The r-squared is: {str(round(slope,2))}\")\n",
    "plt.scatter(x,y)\n",
    "plt.plot(x,regress_values,\"r-\")\n",
    "plt.xlabel(\"Latitude\")\n",
    "plt.ylabel(\"Cloudiness\")"
   ]
  },
  {
   "cell_type": "markdown",
   "metadata": {},
   "source": [
    "####  Southern Hemisphere - Cloudiness (%) vs. Latitude Linear Regression"
   ]
  },
  {
   "cell_type": "code",
   "execution_count": 27,
   "metadata": {},
   "outputs": [
    {
     "name": "stdout",
     "output_type": "stream",
     "text": [
      "The r-squared is: 0.94\n"
     ]
    },
    {
     "data": {
      "text/plain": [
       "Text(0, 0.5, 'Cloudiness')"
      ]
     },
     "execution_count": 27,
     "metadata": {},
     "output_type": "execute_result"
    },
    {
     "data": {
      "image/png": "[encoded data removed]",
      "text/plain": [
       "<Figure size 432x288 with 1 Axes>"
      ]
     },
     "metadata": {
      "needs_background": "light"
     },
     "output_type": "display_data"
    }
   ],
   "source": [
    "x=Southern[\"Lat\"]\n",
    "y=Southern[\"Cloudiness\"]\n",
    "(slope, intercept, rvalue, pvalue, stderr) = linregress(x, y)\n",
    "regress_values = x * slope + intercept\n",
    "line_eq = \"y = \" + str(round(slope,2)) + \"x + \" + str(round(intercept,2))\n",
    "print(f\"The r-squared is: {str(round(slope,2))}\")\n",
    "plt.scatter(x,y)\n",
    "plt.plot(x,regress_values,\"r-\")\n",
    "plt.xlabel(\"Latitude\")\n",
    "plt.ylabel(\"Cloudiness\")"
   ]
  },
  {
   "cell_type": "markdown",
   "metadata": {},
   "source": [
    "####  Northern Hemisphere - Wind Speed (mph) vs. Latitude Linear Regression"
   ]
  },
  {
   "cell_type": "code",
   "execution_count": 28,
   "metadata": {},
   "outputs": [
    {
     "name": "stdout",
     "output_type": "stream",
     "text": [
      "The r-squared is: 0.01\n"
     ]
    },
    {
     "data": {
      "text/plain": [
       "Text(0, 0.5, 'Wind Speed')"
      ]
     },
     "execution_count": 28,
     "metadata": {},
     "output_type": "execute_result"
    },
    {
     "data": {
      "image/png": "[encoded data removed]",
      "text/plain": [
       "<Figure size 432x288 with 1 Axes>"
      ]
     },
     "metadata": {
      "needs_background": "light"
     },
     "output_type": "display_data"
    }
   ],
   "source": [
    "x=Northern[\"Lat\"]\n",
    "y=Northern[\"WindSpeed\"]\n",
    "(slope, intercept, rvalue, pvalue, stderr) = linregress(x, y)\n",
    "regress_values = x * slope + intercept\n",
    "line_eq = \"y = \" + str(round(slope,2)) + \"x + \" + str(round(intercept,2))\n",
    "print(f\"The r-squared is: {str(round(slope,2))}\")\n",
    "plt.scatter(x,y)\n",
    "plt.plot(x,regress_values,\"r-\")\n",
    "plt.xlabel(\"Latitude\")\n",
    "plt.ylabel(\"Wind Speed\")"
   ]
  },
  {
   "cell_type": "markdown",
   "metadata": {},
   "source": [
    "####  Southern Hemisphere - Wind Speed (mph) vs. Latitude Linear Regression"
   ]
  },
  {
   "cell_type": "code",
   "execution_count": 29,
   "metadata": {},
   "outputs": [
    {
     "name": "stdout",
     "output_type": "stream",
     "text": [
      "The r-squared is: -0.05\n"
     ]
    },
    {
     "data": {
      "text/plain": [
       "Text(0, 0.5, 'Wind Speed')"
      ]
     },
     "execution_count": 29,
     "metadata": {},
     "output_type": "execute_result"
    },
    {
     "data": {
      "image/png": "[encoded data removed]",
      "text/plain": [
       "<Figure size 432x288 with 1 Axes>"
      ]
     },
     "metadata": {
      "needs_background": "light"
     },
     "output_type": "display_data"
    }
   ],
   "source": [
    "x=Southern[\"Lat\"]\n",
    "y=Southern[\"WindSpeed\"]\n",
    "(slope, intercept, rvalue, pvalue, stderr) = linregress(x, y)\n",
    "regress_values = x * slope + intercept\n",
    "line_eq = \"y = \" + str(round(slope,2)) + \"x + \" + str(round(intercept,2))\n",
    "print(f\"The r-squared is: {str(round(slope,2))}\")\n",
    "plt.scatter(x,y)\n",
    "plt.plot(x,regress_values,\"r-\")\n",
    "plt.xlabel(\"Latitude\")\n",
    "plt.ylabel(\"Wind Speed\")"
   ]
  },
  {
   "cell_type": "code",
   "execution_count": null,
   "metadata": {},
   "outputs": [],
   "source": []
  }
 ],
 "metadata": {
  "anaconda-cloud": {},
  "kernel_info": {
   "name": "python3"
  },
  "kernelspec": {
   "display_name": "Python 3",
   "language": "python",
   "name": "python3"
  },
  "language_info": {
   "codemirror_mode": {
    "name": "ipython",
    "version": 3
   },
   "file_extension": ".py",
   "mimetype": "text/x-python",
   "name": "python",
   "nbconvert_exporter": "python",
   "pygments_lexer": "ipython3",
   "version": "3.7.4"
  },
  "latex_envs": {
   "LaTeX_envs_menu_present": true,
   "autoclose": false,
   "autocomplete": true,
   "bibliofile": "biblio.bib",
   "cite_by": "apalike",
   "current_citInitial": 1,
   "eqLabelWithNumbers": true,
   "eqNumInitial": 1,
   "hotkeys": {
    "equation": "Ctrl-E",
    "itemize": "Ctrl-I"
   },
   "labels_anchors": false,
   "latex_user_defs": false,
   "report_style_numbering": false,
   "user_envs_cfg": false
  },
  "nteract": {
   "version": "0.12.3"
  }
 },
 "nbformat": 4,
 "nbformat_minor": 2
}
